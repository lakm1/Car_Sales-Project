{
  "cells": [
    {
      "cell_type": "code",
      "execution_count": null,
      "metadata": {},
      "outputs": [],
      "source": []
    },
    {
      "cell_type": "markdown",
      "metadata": {
        "id": "LahWmrmvWfwO"
      },
      "source": [
        "# **Import Libraries**"
      ]
    },
    {
      "cell_type": "code",
      "execution_count": 4,
      "metadata": {
        "id": "An2f6Hx6WelS"
      },
      "outputs": [],
      "source": [
        "\n",
        "import numpy as np\n",
        "\n",
        "# Data Loading & Frames\n",
        "import pandas as pd\n",
        "\n",
        "# Visualization\n",
        "import matplotlib.pyplot as plt\n",
        "import seaborn as sns\n",
        "\n",
        "# Modeling \n",
        "from sklearn.model_selection import train_test_split  # to split the dataset for training\n",
        "import statsmodels.api as sm # Statsmodels for Linear Regression\n",
        "\n",
        "# Metric for evaluation\n",
        "from sklearn.metrics import mean_squared_error"
      ]
    },
    {
      "cell_type": "markdown",
      "metadata": {},
      "source": [
        "# **Load & Read data**"
      ]
    },
    {
      "cell_type": "code",
      "execution_count": 5,
      "metadata": {
        "colab": {
          "base_uri": "https://localhost:8080/",
          "height": 241
        },
        "id": "9RyHUPv_WPE8",
        "outputId": "3b9da82e-aed1-40f0-fa8c-53184f0eca40"
      },
      "outputs": [
        {
          "data": {
            "text/html": [
              "<div>\n",
              "<style scoped>\n",
              "    .dataframe tbody tr th:only-of-type {\n",
              "        vertical-align: middle;\n",
              "    }\n",
              "\n",
              "    .dataframe tbody tr th {\n",
              "        vertical-align: top;\n",
              "    }\n",
              "\n",
              "    .dataframe thead th {\n",
              "        text-align: right;\n",
              "    }\n",
              "</style>\n",
              "<table border=\"1\" class=\"dataframe\">\n",
              "  <thead>\n",
              "    <tr style=\"text-align: right;\">\n",
              "      <th></th>\n",
              "      <th>Manufacturer</th>\n",
              "      <th>Model</th>\n",
              "      <th>Engine size</th>\n",
              "      <th>Fuel type</th>\n",
              "      <th>Year of manufacture</th>\n",
              "      <th>Mileage</th>\n",
              "      <th>Price</th>\n",
              "    </tr>\n",
              "  </thead>\n",
              "  <tbody>\n",
              "    <tr>\n",
              "      <th>0</th>\n",
              "      <td>Ford</td>\n",
              "      <td>Fiesta</td>\n",
              "      <td>1.0</td>\n",
              "      <td>Petrol</td>\n",
              "      <td>2002</td>\n",
              "      <td>127300</td>\n",
              "      <td>3074</td>\n",
              "    </tr>\n",
              "    <tr>\n",
              "      <th>1</th>\n",
              "      <td>Porsche</td>\n",
              "      <td>718 Cayman</td>\n",
              "      <td>4.0</td>\n",
              "      <td>Petrol</td>\n",
              "      <td>2016</td>\n",
              "      <td>57850</td>\n",
              "      <td>49704</td>\n",
              "    </tr>\n",
              "    <tr>\n",
              "      <th>2</th>\n",
              "      <td>Ford</td>\n",
              "      <td>Mondeo</td>\n",
              "      <td>1.6</td>\n",
              "      <td>Diesel</td>\n",
              "      <td>2014</td>\n",
              "      <td>39190</td>\n",
              "      <td>24072</td>\n",
              "    </tr>\n",
              "    <tr>\n",
              "      <th>3</th>\n",
              "      <td>Toyota</td>\n",
              "      <td>RAV4</td>\n",
              "      <td>1.8</td>\n",
              "      <td>Hybrid</td>\n",
              "      <td>1988</td>\n",
              "      <td>210814</td>\n",
              "      <td>1705</td>\n",
              "    </tr>\n",
              "    <tr>\n",
              "      <th>4</th>\n",
              "      <td>VW</td>\n",
              "      <td>Polo</td>\n",
              "      <td>1.0</td>\n",
              "      <td>Petrol</td>\n",
              "      <td>2006</td>\n",
              "      <td>127869</td>\n",
              "      <td>4101</td>\n",
              "    </tr>\n",
              "  </tbody>\n",
              "</table>\n",
              "</div>"
            ],
            "text/plain": [
              "  Manufacturer       Model  Engine size Fuel type  Year of manufacture  \\\n",
              "0         Ford      Fiesta          1.0    Petrol                 2002   \n",
              "1      Porsche  718 Cayman          4.0    Petrol                 2016   \n",
              "2         Ford      Mondeo          1.6    Diesel                 2014   \n",
              "3       Toyota        RAV4          1.8    Hybrid                 1988   \n",
              "4           VW        Polo          1.0    Petrol                 2006   \n",
              "\n",
              "   Mileage  Price  \n",
              "0   127300   3074  \n",
              "1    57850  49704  \n",
              "2    39190  24072  \n",
              "3   210814   1705  \n",
              "4   127869   4101  "
            ]
          },
          "execution_count": 5,
          "metadata": {},
          "output_type": "execute_result"
        }
      ],
      "source": [
        "# Load dataset\n",
        "path = \"car_sales_data.csv\"\n",
        "df = pd.read_csv(path)\n",
        "\n",
        "# Show first 5 rows\n",
        "df.head()"
      ]
    },
    {
      "cell_type": "code",
      "execution_count": 6,
      "metadata": {},
      "outputs": [
        {
          "name": "stdout",
          "output_type": "stream",
          "text": [
            "Shape: (50000, 7)\n"
          ]
        }
      ],
      "source": [
        "# Shape of dataset\n",
        "print(\"Shape:\", df.shape)"
      ]
    },
    {
      "cell_type": "code",
      "execution_count": 7,
      "metadata": {
        "colab": {
          "base_uri": "https://localhost:8080/"
        },
        "id": "InyVVNZIpWzw",
        "outputId": "2a9c7ee6-ed10-450d-c0c9-0e26490534ef"
      },
      "outputs": [
        {
          "name": "stdout",
          "output_type": "stream",
          "text": [
            "<class 'pandas.core.frame.DataFrame'>\n",
            "RangeIndex: 50000 entries, 0 to 49999\n",
            "Data columns (total 7 columns):\n",
            " #   Column               Non-Null Count  Dtype  \n",
            "---  ------               --------------  -----  \n",
            " 0   Manufacturer         50000 non-null  object \n",
            " 1   Model                50000 non-null  object \n",
            " 2   Engine size          50000 non-null  float64\n",
            " 3   Fuel type            50000 non-null  object \n",
            " 4   Year of manufacture  50000 non-null  int64  \n",
            " 5   Mileage              50000 non-null  int64  \n",
            " 6   Price                50000 non-null  int64  \n",
            "dtypes: float64(1), int64(3), object(3)\n",
            "memory usage: 2.7+ MB\n",
            "None\n"
          ]
        }
      ],
      "source": [
        "# Columns & data types\n",
        "print(df.info())"
      ]
    },
    {
      "cell_type": "code",
      "execution_count": 8,
      "metadata": {},
      "outputs": [
        {
          "name": "stdout",
          "output_type": "stream",
          "text": [
            "Manufacturer           0\n",
            "Model                  0\n",
            "Engine size            0\n",
            "Fuel type              0\n",
            "Year of manufacture    0\n",
            "Mileage                0\n",
            "Price                  0\n",
            "dtype: int64\n"
          ]
        }
      ],
      "source": [
        "# Check missing values\n",
        "print(df.isnull().sum())"
      ]
    },
    {
      "cell_type": "code",
      "execution_count": 9,
      "metadata": {
        "colab": {
          "base_uri": "https://localhost:8080/",
          "height": 300
        },
        "id": "W6-T6FvepYo2",
        "outputId": "2be527fe-531e-420c-b1c1-562e34911005"
      },
      "outputs": [
        {
          "data": {
            "text/html": [
              "<div>\n",
              "<style scoped>\n",
              "    .dataframe tbody tr th:only-of-type {\n",
              "        vertical-align: middle;\n",
              "    }\n",
              "\n",
              "    .dataframe tbody tr th {\n",
              "        vertical-align: top;\n",
              "    }\n",
              "\n",
              "    .dataframe thead th {\n",
              "        text-align: right;\n",
              "    }\n",
              "</style>\n",
              "<table border=\"1\" class=\"dataframe\">\n",
              "  <thead>\n",
              "    <tr style=\"text-align: right;\">\n",
              "      <th></th>\n",
              "      <th>Engine size</th>\n",
              "      <th>Year of manufacture</th>\n",
              "      <th>Mileage</th>\n",
              "      <th>Price</th>\n",
              "    </tr>\n",
              "  </thead>\n",
              "  <tbody>\n",
              "    <tr>\n",
              "      <th>count</th>\n",
              "      <td>50000.000000</td>\n",
              "      <td>50000.000000</td>\n",
              "      <td>50000.000000</td>\n",
              "      <td>50000.000000</td>\n",
              "    </tr>\n",
              "    <tr>\n",
              "      <th>mean</th>\n",
              "      <td>1.773058</td>\n",
              "      <td>2004.209440</td>\n",
              "      <td>112497.320700</td>\n",
              "      <td>13828.903160</td>\n",
              "    </tr>\n",
              "    <tr>\n",
              "      <th>std</th>\n",
              "      <td>0.734108</td>\n",
              "      <td>9.645965</td>\n",
              "      <td>71632.515602</td>\n",
              "      <td>16416.681336</td>\n",
              "    </tr>\n",
              "    <tr>\n",
              "      <th>min</th>\n",
              "      <td>1.000000</td>\n",
              "      <td>1984.000000</td>\n",
              "      <td>630.000000</td>\n",
              "      <td>76.000000</td>\n",
              "    </tr>\n",
              "    <tr>\n",
              "      <th>25%</th>\n",
              "      <td>1.400000</td>\n",
              "      <td>1996.000000</td>\n",
              "      <td>54352.250000</td>\n",
              "      <td>3060.750000</td>\n",
              "    </tr>\n",
              "    <tr>\n",
              "      <th>50%</th>\n",
              "      <td>1.600000</td>\n",
              "      <td>2004.000000</td>\n",
              "      <td>100987.500000</td>\n",
              "      <td>7971.500000</td>\n",
              "    </tr>\n",
              "    <tr>\n",
              "      <th>75%</th>\n",
              "      <td>2.000000</td>\n",
              "      <td>2012.000000</td>\n",
              "      <td>158601.000000</td>\n",
              "      <td>19026.500000</td>\n",
              "    </tr>\n",
              "    <tr>\n",
              "      <th>max</th>\n",
              "      <td>5.000000</td>\n",
              "      <td>2022.000000</td>\n",
              "      <td>453537.000000</td>\n",
              "      <td>168081.000000</td>\n",
              "    </tr>\n",
              "  </tbody>\n",
              "</table>\n",
              "</div>"
            ],
            "text/plain": [
              "        Engine size  Year of manufacture        Mileage          Price\n",
              "count  50000.000000         50000.000000   50000.000000   50000.000000\n",
              "mean       1.773058          2004.209440  112497.320700   13828.903160\n",
              "std        0.734108             9.645965   71632.515602   16416.681336\n",
              "min        1.000000          1984.000000     630.000000      76.000000\n",
              "25%        1.400000          1996.000000   54352.250000    3060.750000\n",
              "50%        1.600000          2004.000000  100987.500000    7971.500000\n",
              "75%        2.000000          2012.000000  158601.000000   19026.500000\n",
              "max        5.000000          2022.000000  453537.000000  168081.000000"
            ]
          },
          "execution_count": 9,
          "metadata": {},
          "output_type": "execute_result"
        }
      ],
      "source": [
        "df.describe()"
      ]
    },
    {
      "cell_type": "markdown",
      "metadata": {},
      "source": [
        "# **Statistic Operations**"
      ]
    },
    {
      "cell_type": "code",
      "execution_count": 10,
      "metadata": {},
      "outputs": [
        {
          "name": "stdout",
          "output_type": "stream",
          "text": [
            "Numeric columns: Index(['Engine size', 'Year of manufacture', 'Mileage', 'Price'], dtype='object')\n"
          ]
        },
        {
          "data": {
            "text/html": [
              "<div>\n",
              "<style scoped>\n",
              "    .dataframe tbody tr th:only-of-type {\n",
              "        vertical-align: middle;\n",
              "    }\n",
              "\n",
              "    .dataframe tbody tr th {\n",
              "        vertical-align: top;\n",
              "    }\n",
              "\n",
              "    .dataframe thead th {\n",
              "        text-align: right;\n",
              "    }\n",
              "</style>\n",
              "<table border=\"1\" class=\"dataframe\">\n",
              "  <thead>\n",
              "    <tr style=\"text-align: right;\">\n",
              "      <th></th>\n",
              "      <th>Engine size</th>\n",
              "      <th>Year of manufacture</th>\n",
              "      <th>Mileage</th>\n",
              "      <th>Price</th>\n",
              "    </tr>\n",
              "  </thead>\n",
              "  <tbody>\n",
              "    <tr>\n",
              "      <th>0</th>\n",
              "      <td>1.0</td>\n",
              "      <td>2002</td>\n",
              "      <td>127300</td>\n",
              "      <td>3074</td>\n",
              "    </tr>\n",
              "    <tr>\n",
              "      <th>1</th>\n",
              "      <td>4.0</td>\n",
              "      <td>2016</td>\n",
              "      <td>57850</td>\n",
              "      <td>49704</td>\n",
              "    </tr>\n",
              "    <tr>\n",
              "      <th>2</th>\n",
              "      <td>1.6</td>\n",
              "      <td>2014</td>\n",
              "      <td>39190</td>\n",
              "      <td>24072</td>\n",
              "    </tr>\n",
              "    <tr>\n",
              "      <th>3</th>\n",
              "      <td>1.8</td>\n",
              "      <td>1988</td>\n",
              "      <td>210814</td>\n",
              "      <td>1705</td>\n",
              "    </tr>\n",
              "    <tr>\n",
              "      <th>4</th>\n",
              "      <td>1.0</td>\n",
              "      <td>2006</td>\n",
              "      <td>127869</td>\n",
              "      <td>4101</td>\n",
              "    </tr>\n",
              "  </tbody>\n",
              "</table>\n",
              "</div>"
            ],
            "text/plain": [
              "   Engine size  Year of manufacture  Mileage  Price\n",
              "0          1.0                 2002   127300   3074\n",
              "1          4.0                 2016    57850  49704\n",
              "2          1.6                 2014    39190  24072\n",
              "3          1.8                 1988   210814   1705\n",
              "4          1.0                 2006   127869   4101"
            ]
          },
          "execution_count": 10,
          "metadata": {},
          "output_type": "execute_result"
        }
      ],
      "source": [
        "# The Numeric Columns\n",
        "numeric_cols = df.select_dtypes(include=np.number).columns\n",
        "print(\"Numeric columns:\", numeric_cols)\n",
        "\n",
        "df[numeric_cols].head()"
      ]
    },
    {
      "cell_type": "code",
      "execution_count": 11,
      "metadata": {},
      "outputs": [],
      "source": [
        "#numeric columns\n",
        "numeric_cols = [\"Engine size\", \"Year of manufacture\", \"Mileage\", \"Price\"]\n",
        "\n",
        "# Statsitcal operations and the results stored in dictionary\n",
        "results = {\n",
        "    \"Mean\": [df[col].mean() for col in numeric_cols],\n",
        "    \"Median\": [df[col].median() for col in numeric_cols],\n",
        "    \"Mode\": [df[col].mode()[0] for col in numeric_cols],\n",
        "    \"Std Dev\": [df[col].std() for col in numeric_cols],\n",
        "    \"Variance\": [df[col].var() for col in numeric_cols],\n",
        "    \"Min\": [df[col].min() for col in numeric_cols],\n",
        "    \"Max\": [df[col].max() for col in numeric_cols],\n",
        "}"
      ]
    },
    {
      "cell_type": "code",
      "execution_count": 12,
      "metadata": {},
      "outputs": [
        {
          "data": {
            "text/html": [
              "<div>\n",
              "<style scoped>\n",
              "    .dataframe tbody tr th:only-of-type {\n",
              "        vertical-align: middle;\n",
              "    }\n",
              "\n",
              "    .dataframe tbody tr th {\n",
              "        vertical-align: top;\n",
              "    }\n",
              "\n",
              "    .dataframe thead th {\n",
              "        text-align: right;\n",
              "    }\n",
              "</style>\n",
              "<table border=\"1\" class=\"dataframe\">\n",
              "  <thead>\n",
              "    <tr style=\"text-align: right;\">\n",
              "      <th></th>\n",
              "      <th>Mean</th>\n",
              "      <th>Median</th>\n",
              "      <th>Mode</th>\n",
              "      <th>Std Dev</th>\n",
              "      <th>Variance</th>\n",
              "      <th>Min</th>\n",
              "      <th>Max</th>\n",
              "    </tr>\n",
              "  </thead>\n",
              "  <tbody>\n",
              "    <tr>\n",
              "      <th>Engine size</th>\n",
              "      <td>1.773058</td>\n",
              "      <td>1.6</td>\n",
              "      <td>1.4</td>\n",
              "      <td>0.734108</td>\n",
              "      <td>5.389143e-01</td>\n",
              "      <td>1.0</td>\n",
              "      <td>5.0</td>\n",
              "    </tr>\n",
              "    <tr>\n",
              "      <th>Year of manufacture</th>\n",
              "      <td>2004.209440</td>\n",
              "      <td>2004.0</td>\n",
              "      <td>2018.0</td>\n",
              "      <td>9.645965</td>\n",
              "      <td>9.304464e+01</td>\n",
              "      <td>1984.0</td>\n",
              "      <td>2022.0</td>\n",
              "    </tr>\n",
              "    <tr>\n",
              "      <th>Mileage</th>\n",
              "      <td>112497.320700</td>\n",
              "      <td>100987.5</td>\n",
              "      <td>11500.0</td>\n",
              "      <td>71632.515602</td>\n",
              "      <td>5.131217e+09</td>\n",
              "      <td>630.0</td>\n",
              "      <td>453537.0</td>\n",
              "    </tr>\n",
              "    <tr>\n",
              "      <th>Price</th>\n",
              "      <td>13828.903160</td>\n",
              "      <td>7971.5</td>\n",
              "      <td>1610.0</td>\n",
              "      <td>16416.681336</td>\n",
              "      <td>2.695074e+08</td>\n",
              "      <td>76.0</td>\n",
              "      <td>168081.0</td>\n",
              "    </tr>\n",
              "  </tbody>\n",
              "</table>\n",
              "</div>"
            ],
            "text/plain": [
              "                              Mean    Median     Mode       Std Dev  \\\n",
              "Engine size               1.773058       1.6      1.4      0.734108   \n",
              "Year of manufacture    2004.209440    2004.0   2018.0      9.645965   \n",
              "Mileage              112497.320700  100987.5  11500.0  71632.515602   \n",
              "Price                 13828.903160    7971.5   1610.0  16416.681336   \n",
              "\n",
              "                         Variance     Min       Max  \n",
              "Engine size          5.389143e-01     1.0       5.0  \n",
              "Year of manufacture  9.304464e+01  1984.0    2022.0  \n",
              "Mileage              5.131217e+09   630.0  453537.0  \n",
              "Price                2.695074e+08    76.0  168081.0  "
            ]
          },
          "execution_count": 12,
          "metadata": {},
          "output_type": "execute_result"
        }
      ],
      "source": [
        "#Disply results as table\n",
        "stats_table = pd.DataFrame(results, index=numeric_cols)\n",
        "(stats_table)"
      ]
    },
    {
      "cell_type": "markdown",
      "metadata": {},
      "source": [
        "# **Visualization**"
      ]
    },
    {
      "cell_type": "code",
      "execution_count": 13,
      "metadata": {},
      "outputs": [
        {
          "data": {
            "image/png": "[encoded data removed]",
            "text/plain": [
              "<Figure size 1400x800 with 1 Axes>"
            ]
          },
          "metadata": {},
          "output_type": "display_data"
        }
      ],
      "source": [
        "# Visualization\n",
        "fig = plt.figure(figsize=(14, 8))\n",
        "\n",
        "# Plot 1: Distribution of Car Prices (Histogram)\n",
        "ax1 = plt.subplot(2, 2, 1)\n",
        "ax1.hist(df[\"Price\"], bins=40, color=\"skyblue\")\n",
        "ax1.set_title(\"Distribution of Car Prices\")\n",
        "ax1.set_xlabel(\"Price\")\n",
        "ax1.set_ylabel(\"Count\")\n",
        "ax1.grid(alpha=0.25, linestyle=\"--\")\n"
      ]
    },
    {
      "cell_type": "code",
      "execution_count": 14,
      "metadata": {},
      "outputs": [
        {
          "data": {
            "image/png": "[encoded data removed]",
            "text/plain": [
              "<Figure size 640x480 with 1 Axes>"
            ]
          },
          "metadata": {},
          "output_type": "display_data"
        }
      ],
      "source": [
        "# Plot 2: Top 5 Engine Sizes (Bar Chart)\n",
        "ax2 = plt.subplot(2, 2, 2)\n",
        "top_engines = df[\"Engine size\"].value_counts().head()\n",
        "ax2.barh(top_engines.index, top_engines.values, color=\"orange\")\n",
        "ax2.invert_yaxis()\n",
        "ax2.set_title(\"Top 5 Engine Sizes\")\n",
        "ax2.set_xlabel(\"Frequency\")\n",
        "ax2.grid(alpha=0.25, linestyle=\"--\")"
      ]
    },
    {
      "cell_type": "code",
      "execution_count": 15,
      "metadata": {},
      "outputs": [
        {
          "data": {
            "text/plain": [
              "<matplotlib.legend.Legend at 0x29b41913f50>"
            ]
          },
          "execution_count": 15,
          "metadata": {},
          "output_type": "execute_result"
        },
        {
          "data": {
            "image/png": "[encoded data removed]",
            "text/plain": [
              "<Figure size 640x480 with 1 Axes>"
            ]
          },
          "metadata": {},
          "output_type": "display_data"
        }
      ],
      "source": [
        "# Plot 3: Car Distribution by Year (Pie Chart)\n",
        "ax3 = plt.subplot(2, 2, 3)\n",
        "year_counts = df[\"Year of manufacture\"].value_counts().sort_index().tail(6)  # last 6 years\n",
        "wedges, texts, autotexts = ax3.pie(\n",
        "    year_counts, labels=None, autopct=\"%1.0f%%\", startangle=90\n",
        ")\n",
        "ax3.set_title(\"Car Distribution by Year\")\n",
        "ax3.axis(\"equal\")\n",
        "ax3.legend(\n",
        "    wedges, year_counts.index, title=\"Year\", loc=\"center left\",\n",
        "    bbox_to_anchor=(1, 0, 0.5, 1)\n",
        ")"
      ]
    },
    {
      "cell_type": "code",
      "execution_count": 16,
      "metadata": {},
      "outputs": [
        {
          "data": {
            "image/png": "[encoded data removed]",
            "text/plain": [
              "<Figure size 640x480 with 1 Axes>"
            ]
          },
          "metadata": {},
          "output_type": "display_data"
        }
      ],
      "source": [
        "# Plot 4: Outliers in Price (Boxplot)\n",
        "ax4 = plt.subplot(2, 2, 4)\n",
        "ax4.boxplot(df[\"Price\"], vert=False, patch_artist=True, boxprops=dict(facecolor=\"lightgreen\"))\n",
        "ax4.set_title(\"Outliers in Car Prices\")\n",
        "ax4.set_xlabel(\"Price\")\n",
        "ax4.grid(alpha=0.25, linestyle=\"--\")\n",
        "\n",
        "plt.tight_layout(rect=[0, 0, 1, 0.95])\n",
        "plt.show()\n"
      ]
    },
    {
      "cell_type": "code",
      "execution_count": 17,
      "metadata": {
        "colab": {
          "base_uri": "https://localhost:8080/",
          "height": 349
        },
        "id": "QYtD5tzxWlKD",
        "outputId": "cf2db856-b6a2-4402-dc87-f120137ce637"
      },
      "outputs": [
        {
          "data": {
            "image/png": "[encoded data removed]",
            "text/plain": [
              "<Figure size 1500x800 with 1 Axes>"
            ]
          },
          "metadata": {},
          "output_type": "display_data"
        }
      ],
      "source": [
        "# Plot 5: Mean&Median Prices for eacb Manufacturer (Bar Graph)\n",
        "result = df.groupby(\"Manufacturer\", as_index = False)[\"Price\"].agg([\"mean\", \"median\"]).round(1).sort_values(by = \"mean\", ascending = False)\n",
        "result_melted = result.melt(\n",
        "    id_vars = \"Manufacturer\",\n",
        "    var_name = \"Metric\",\n",
        "    value_name= \"Price\"\n",
        ")\n",
        "\n",
        "plt.figure(figsize = (15,8))\n",
        "sns.barplot(data = result_melted, x = \"Manufacturer\", y = \"Price\", hue = \"Metric\")\n",
        "plt.title('Mean and Median Prices by Manufacturer')\n",
        "plt.show()"
      ]
    },
    {
      "cell_type": "code",
      "execution_count": 18,
      "metadata": {
        "colab": {
          "base_uri": "https://localhost:8080/",
          "height": 270
        },
        "id": "4g2wkroAqTNf",
        "outputId": "70c542e8-77ff-49ad-9cd1-903b3beefa28"
      },
      "outputs": [
        {
          "data": {
            "image/png": "[encoded data removed]",
            "text/plain": [
              "<Figure size 640x480 with 1 Axes>"
            ]
          },
          "metadata": {},
          "output_type": "display_data"
        }
      ],
      "source": [
        "# Plot 6: Car Price Distribution\n",
        "plt.subplot(224)\n",
        "sns.histplot(data = df, x = \"Price\", kde = True,)\n",
        "plt.title(\"Car Price Distribution\")\n",
        "plt.show()"
      ]
    },
    {
      "cell_type": "code",
      "execution_count": 19,
      "metadata": {
        "colab": {
          "base_uri": "https://localhost:8080/",
          "height": 377
        },
        "id": "5HMYmANgqeeB",
        "outputId": "1ef7d356-7cbb-4ffe-f340-0216d8d98747"
      },
      "outputs": [
        {
          "data": {
            "image/png": "[encoded data removed]",
            "text/plain": [
              "<Figure size 640x480 with 2 Axes>"
            ]
          },
          "metadata": {},
          "output_type": "display_data"
        }
      ],
      "source": [
        "# Plot 7: Correlation heatmap\n",
        "plt.subplot(223)\n",
        "sns.heatmap(data=df.corr(numeric_only=True), vmin=-1, vmax=1, annot=True, cmap=\"RdBu\")\n",
        "plt.title('Correlation Heatmap')\n",
        "plt.show()"
      ]
    },
    {
      "cell_type": "markdown",
      "metadata": {
        "id": "my2tzOTEuSmH"
      },
      "source": [
        "# **Data Cleaning**"
      ]
    },
    {
      "cell_type": "code",
      "execution_count": 20,
      "metadata": {
        "colab": {
          "base_uri": "https://localhost:8080/"
        },
        "id": "CZAYIGjIvIoT",
        "outputId": "0e182d3b-8891-478b-be3b-68e360cb8aad"
      },
      "outputs": [
        {
          "name": "stdout",
          "output_type": "stream",
          "text": [
            "Min price: 76\n",
            "Max price: 168081\n"
          ]
        }
      ],
      "source": [
        "# Checking Min and Max price\n",
        "min = np.min(df['Price'])\n",
        "max = np.max(df['Price'])\n",
        "print(\"Min price:\", min)\n",
        "print(\"Max price:\", max)"
      ]
    },
    {
      "cell_type": "code",
      "execution_count": 21,
      "metadata": {
        "id": "QG7u5Zkiv8_G"
      },
      "outputs": [],
      "source": [
        "# Converting Categorical --> Numerical, but in new columns \n",
        "# We used cat.codes to give each category numeric code Like Diesel --> 0, Hybrid --> 1 , and the same to the others ....\n",
        "df['Manufacturer_num'] = df['Manufacturer'].astype('category').cat.codes\n",
        "df['Model_num'] = df['Model'].astype('category').cat.codes\n",
        "df['Fuel_Type_num'] = df['Fuel type'].astype('category').cat.codes"
      ]
    },
    {
      "cell_type": "code",
      "execution_count": 22,
      "metadata": {
        "colab": {
          "base_uri": "https://localhost:8080/",
          "height": 478
        },
        "id": "LYF-wUmmYooZ",
        "outputId": "f75acd44-ac0e-4bee-c8c5-fcc1b4b6d21b"
      },
      "outputs": [
        {
          "data": {
            "text/html": [
              "<div>\n",
              "<style scoped>\n",
              "    .dataframe tbody tr th:only-of-type {\n",
              "        vertical-align: middle;\n",
              "    }\n",
              "\n",
              "    .dataframe tbody tr th {\n",
              "        vertical-align: top;\n",
              "    }\n",
              "\n",
              "    .dataframe thead th {\n",
              "        text-align: right;\n",
              "    }\n",
              "</style>\n",
              "<table border=\"1\" class=\"dataframe\">\n",
              "  <thead>\n",
              "    <tr style=\"text-align: right;\">\n",
              "      <th></th>\n",
              "      <th>Manufacturer</th>\n",
              "      <th>Model</th>\n",
              "      <th>Engine size</th>\n",
              "      <th>Fuel type</th>\n",
              "      <th>Year of manufacture</th>\n",
              "      <th>Mileage</th>\n",
              "      <th>Price</th>\n",
              "      <th>Manufacturer_num</th>\n",
              "      <th>Model_num</th>\n",
              "      <th>Fuel_Type_num</th>\n",
              "    </tr>\n",
              "  </thead>\n",
              "  <tbody>\n",
              "    <tr>\n",
              "      <th>0</th>\n",
              "      <td>Ford</td>\n",
              "      <td>Fiesta</td>\n",
              "      <td>1.0</td>\n",
              "      <td>Petrol</td>\n",
              "      <td>2002</td>\n",
              "      <td>127300</td>\n",
              "      <td>3074</td>\n",
              "      <td>1</td>\n",
              "      <td>3</td>\n",
              "      <td>2</td>\n",
              "    </tr>\n",
              "    <tr>\n",
              "      <th>1</th>\n",
              "      <td>Porsche</td>\n",
              "      <td>718 Cayman</td>\n",
              "      <td>4.0</td>\n",
              "      <td>Petrol</td>\n",
              "      <td>2016</td>\n",
              "      <td>57850</td>\n",
              "      <td>49704</td>\n",
              "      <td>2</td>\n",
              "      <td>0</td>\n",
              "      <td>2</td>\n",
              "    </tr>\n",
              "    <tr>\n",
              "      <th>2</th>\n",
              "      <td>Ford</td>\n",
              "      <td>Mondeo</td>\n",
              "      <td>1.6</td>\n",
              "      <td>Diesel</td>\n",
              "      <td>2014</td>\n",
              "      <td>39190</td>\n",
              "      <td>24072</td>\n",
              "      <td>1</td>\n",
              "      <td>7</td>\n",
              "      <td>0</td>\n",
              "    </tr>\n",
              "    <tr>\n",
              "      <th>3</th>\n",
              "      <td>Toyota</td>\n",
              "      <td>RAV4</td>\n",
              "      <td>1.8</td>\n",
              "      <td>Hybrid</td>\n",
              "      <td>1988</td>\n",
              "      <td>210814</td>\n",
              "      <td>1705</td>\n",
              "      <td>3</td>\n",
              "      <td>11</td>\n",
              "      <td>1</td>\n",
              "    </tr>\n",
              "    <tr>\n",
              "      <th>4</th>\n",
              "      <td>VW</td>\n",
              "      <td>Polo</td>\n",
              "      <td>1.0</td>\n",
              "      <td>Petrol</td>\n",
              "      <td>2006</td>\n",
              "      <td>127869</td>\n",
              "      <td>4101</td>\n",
              "      <td>4</td>\n",
              "      <td>9</td>\n",
              "      <td>2</td>\n",
              "    </tr>\n",
              "    <tr>\n",
              "      <th>...</th>\n",
              "      <td>...</td>\n",
              "      <td>...</td>\n",
              "      <td>...</td>\n",
              "      <td>...</td>\n",
              "      <td>...</td>\n",
              "      <td>...</td>\n",
              "      <td>...</td>\n",
              "      <td>...</td>\n",
              "      <td>...</td>\n",
              "      <td>...</td>\n",
              "    </tr>\n",
              "    <tr>\n",
              "      <th>49995</th>\n",
              "      <td>BMW</td>\n",
              "      <td>M5</td>\n",
              "      <td>5.0</td>\n",
              "      <td>Petrol</td>\n",
              "      <td>2018</td>\n",
              "      <td>28664</td>\n",
              "      <td>113006</td>\n",
              "      <td>0</td>\n",
              "      <td>6</td>\n",
              "      <td>2</td>\n",
              "    </tr>\n",
              "    <tr>\n",
              "      <th>49996</th>\n",
              "      <td>Toyota</td>\n",
              "      <td>Prius</td>\n",
              "      <td>1.8</td>\n",
              "      <td>Hybrid</td>\n",
              "      <td>2003</td>\n",
              "      <td>105120</td>\n",
              "      <td>9430</td>\n",
              "      <td>3</td>\n",
              "      <td>10</td>\n",
              "      <td>1</td>\n",
              "    </tr>\n",
              "    <tr>\n",
              "      <th>49997</th>\n",
              "      <td>Ford</td>\n",
              "      <td>Mondeo</td>\n",
              "      <td>1.6</td>\n",
              "      <td>Diesel</td>\n",
              "      <td>2022</td>\n",
              "      <td>4030</td>\n",
              "      <td>49852</td>\n",
              "      <td>1</td>\n",
              "      <td>7</td>\n",
              "      <td>0</td>\n",
              "    </tr>\n",
              "    <tr>\n",
              "      <th>49998</th>\n",
              "      <td>Ford</td>\n",
              "      <td>Focus</td>\n",
              "      <td>1.0</td>\n",
              "      <td>Diesel</td>\n",
              "      <td>2016</td>\n",
              "      <td>26468</td>\n",
              "      <td>23630</td>\n",
              "      <td>1</td>\n",
              "      <td>4</td>\n",
              "      <td>0</td>\n",
              "    </tr>\n",
              "    <tr>\n",
              "      <th>49999</th>\n",
              "      <td>VW</td>\n",
              "      <td>Golf</td>\n",
              "      <td>1.4</td>\n",
              "      <td>Diesel</td>\n",
              "      <td>2012</td>\n",
              "      <td>109300</td>\n",
              "      <td>10400</td>\n",
              "      <td>4</td>\n",
              "      <td>5</td>\n",
              "      <td>0</td>\n",
              "    </tr>\n",
              "  </tbody>\n",
              "</table>\n",
              "<p>50000 rows × 10 columns</p>\n",
              "</div>"
            ],
            "text/plain": [
              "      Manufacturer       Model  Engine size Fuel type  Year of manufacture  \\\n",
              "0             Ford      Fiesta          1.0    Petrol                 2002   \n",
              "1          Porsche  718 Cayman          4.0    Petrol                 2016   \n",
              "2             Ford      Mondeo          1.6    Diesel                 2014   \n",
              "3           Toyota        RAV4          1.8    Hybrid                 1988   \n",
              "4               VW        Polo          1.0    Petrol                 2006   \n",
              "...            ...         ...          ...       ...                  ...   \n",
              "49995          BMW          M5          5.0    Petrol                 2018   \n",
              "49996       Toyota       Prius          1.8    Hybrid                 2003   \n",
              "49997         Ford      Mondeo          1.6    Diesel                 2022   \n",
              "49998         Ford       Focus          1.0    Diesel                 2016   \n",
              "49999           VW        Golf          1.4    Diesel                 2012   \n",
              "\n",
              "       Mileage   Price  Manufacturer_num  Model_num  Fuel_Type_num  \n",
              "0       127300    3074                 1          3              2  \n",
              "1        57850   49704                 2          0              2  \n",
              "2        39190   24072                 1          7              0  \n",
              "3       210814    1705                 3         11              1  \n",
              "4       127869    4101                 4          9              2  \n",
              "...        ...     ...               ...        ...            ...  \n",
              "49995    28664  113006                 0          6              2  \n",
              "49996   105120    9430                 3         10              1  \n",
              "49997     4030   49852                 1          7              0  \n",
              "49998    26468   23630                 1          4              0  \n",
              "49999   109300   10400                 4          5              0  \n",
              "\n",
              "[50000 rows x 10 columns]"
            ]
          },
          "execution_count": 22,
          "metadata": {},
          "output_type": "execute_result"
        }
      ],
      "source": [
        "# The data with the new columns\n",
        "df"
      ]
    },
    {
      "cell_type": "code",
      "execution_count": 23,
      "metadata": {
        "colab": {
          "base_uri": "https://localhost:8080/"
        },
        "id": "Q9l7ZJeXZ83Q",
        "outputId": "d4ed77e5-44fe-4e8e-e97c-b25915b296a5"
      },
      "outputs": [
        {
          "name": "stdout",
          "output_type": "stream",
          "text": [
            "<class 'pandas.core.frame.DataFrame'>\n",
            "RangeIndex: 50000 entries, 0 to 49999\n",
            "Data columns (total 10 columns):\n",
            " #   Column               Non-Null Count  Dtype  \n",
            "---  ------               --------------  -----  \n",
            " 0   Manufacturer         50000 non-null  object \n",
            " 1   Model                50000 non-null  object \n",
            " 2   Engine size          50000 non-null  float64\n",
            " 3   Fuel type            50000 non-null  object \n",
            " 4   Year of manufacture  50000 non-null  int64  \n",
            " 5   Mileage              50000 non-null  int64  \n",
            " 6   Price                50000 non-null  int64  \n",
            " 7   Manufacturer_num     50000 non-null  int8   \n",
            " 8   Model_num            50000 non-null  int8   \n",
            " 9   Fuel_Type_num        50000 non-null  int8   \n",
            "dtypes: float64(1), int64(3), int8(3), object(3)\n",
            "memory usage: 2.8+ MB\n"
          ]
        }
      ],
      "source": [
        "df.info()"
      ]
    },
    {
      "cell_type": "code",
      "execution_count": 24,
      "metadata": {
        "colab": {
          "base_uri": "https://localhost:8080/"
        },
        "id": "qBKNToVlxx0R",
        "outputId": "9c3673dd-6efc-450a-85f1-7f385b03f7a5"
      },
      "outputs": [
        {
          "name": "stdout",
          "output_type": "stream",
          "text": [
            "Outliers found: 2649\n"
          ]
        }
      ],
      "source": [
        "# ---- Outlier detection (IQR on Price) ----\n",
        "Q1, Q3 = np.percentile(df['Price'], [25, 75])\n",
        "IQR = Q3 - Q1\n",
        "lower, upper = Q1 - 1.5*IQR, Q3 + 1.5*IQR\n",
        "\n",
        "outliers = df[(df['Price'] < lower) | (df['Price'] > upper)]\n",
        "print(\"Outliers found:\", len(outliers))"
      ]
    },
    {
      "cell_type": "code",
      "execution_count": 25,
      "metadata": {
        "colab": {
          "base_uri": "https://localhost:8080/"
        },
        "id": "9scU9E7k7ve2",
        "outputId": "438ba926-0cf2-4677-a7bd-ac1f093654ac"
      },
      "outputs": [
        {
          "name": "stdout",
          "output_type": "stream",
          "text": [
            "The Outliers:\n",
            "       Manufacturer       Model  Engine size Fuel type  Year of manufacture  \\\n",
            "1          Porsche  718 Cayman          4.0    Petrol                 2016   \n",
            "18          Toyota        RAV4          2.0    Hybrid                 2018   \n",
            "41             BMW          M5          4.0    Petrol                 2017   \n",
            "51          Toyota        RAV4          2.4    Petrol                 2018   \n",
            "57         Porsche     Cayenne          2.6    Diesel                 2015   \n",
            "...            ...         ...          ...       ...                  ...   \n",
            "49922          BMW          M5          4.0    Petrol                 2011   \n",
            "49938          BMW          M5          4.0    Petrol                 2015   \n",
            "49939       Toyota        RAV4          1.8    Hybrid                 2017   \n",
            "49995          BMW          M5          5.0    Petrol                 2018   \n",
            "49997         Ford      Mondeo          1.6    Diesel                 2022   \n",
            "\n",
            "       Mileage   Price  Manufacturer_num  Model_num  Fuel_Type_num  \n",
            "1        57850   49704                 2          0              2  \n",
            "18       28381   52671                 3         11              1  \n",
            "41       22759   97758                 0          6              2  \n",
            "51       24588   49125                 3         11              2  \n",
            "57       33693   54037                 2          2              0  \n",
            "...        ...     ...               ...        ...            ...  \n",
            "49922    79247   46062                 0          6              2  \n",
            "49938    47256   74105                 0          6              2  \n",
            "49939    27006   47113                 3         11              1  \n",
            "49995    28664  113006                 0          6              2  \n",
            "49997     4030   49852                 1          7              0  \n",
            "\n",
            "[2649 rows x 10 columns]\n"
          ]
        }
      ],
      "source": [
        "print(\"The Outliers:\\n\", outliers)"
      ]
    },
    {
      "cell_type": "code",
      "execution_count": 26,
      "metadata": {
        "colab": {
          "base_uri": "https://localhost:8080/"
        },
        "id": "cR3HLzaTx3Dx",
        "outputId": "6b2c1eb4-9a96-45f4-d89f-f7a6e737bdb9"
      },
      "outputs": [
        {
          "name": "stdout",
          "output_type": "stream",
          "text": [
            "42985\n",
            "168081\n"
          ]
        }
      ],
      "source": [
        "print(np.min(outliers['Price']))\n",
        "print(np.max(outliers['Price']))\n"
      ]
    },
    {
      "cell_type": "markdown",
      "metadata": {},
      "source": [
        "We have ~50,000 rows in the dataset, just 2649 row its price >= 42985\n",
        "The rest is between 76 to 42k"
      ]
    },
    {
      "cell_type": "code",
      "execution_count": 27,
      "metadata": {
        "id": "-ObIUhhsyY7i"
      },
      "outputs": [],
      "source": [
        "# df_clean: The data without the outliers\n",
        "df_clean = df[(df['Price'] >= lower) & (df['Price'] <= upper)]"
      ]
    },
    {
      "cell_type": "markdown",
      "metadata": {
        "id": "dOGWXmorxwQl"
      },
      "source": [
        "# **Modeling**"
      ]
    },
    {
      "cell_type": "markdown",
      "metadata": {
        "id": "l-RWNNFPzS0L"
      },
      "source": [
        "Option 1: Without removing the outliers"
      ]
    },
    {
      "cell_type": "code",
      "execution_count": 28,
      "metadata": {
        "id": "TkUeg8KEY-to"
      },
      "outputs": [],
      "source": [
        "# For Regression\n",
        "X = df[['Engine size','Year of manufacture','Mileage','Fuel_Type_num','Manufacturer_num','Model_num']] # --> Features\n",
        "y = df['Price'] # --> The Target"
      ]
    },
    {
      "cell_type": "code",
      "execution_count": 29,
      "metadata": {
        "colab": {
          "base_uri": "https://localhost:8080/"
        },
        "id": "ZB98epcmoWzy",
        "outputId": "8279e588-5f83-4620-a6cf-1d16bfba346b"
      },
      "outputs": [
        {
          "name": "stdout",
          "output_type": "stream",
          "text": [
            "X shape: (50000, 6)\n",
            "y shape: (50000,)\n"
          ]
        }
      ],
      "source": [
        "print(\"X shape:\", X.shape)\n",
        "print(\"y shape:\", y.shape)"
      ]
    },
    {
      "cell_type": "code",
      "execution_count": 30,
      "metadata": {
        "colab": {
          "base_uri": "https://localhost:8080/",
          "height": 461
        },
        "id": "o6LskAe-q-r4",
        "outputId": "39e75bac-4b0f-4782-a6d5-6ea0fb843152"
      },
      "outputs": [
        {
          "data": {
            "text/html": [
              "<div>\n",
              "<style scoped>\n",
              "    .dataframe tbody tr th:only-of-type {\n",
              "        vertical-align: middle;\n",
              "    }\n",
              "\n",
              "    .dataframe tbody tr th {\n",
              "        vertical-align: top;\n",
              "    }\n",
              "\n",
              "    .dataframe thead th {\n",
              "        text-align: right;\n",
              "    }\n",
              "</style>\n",
              "<table border=\"1\" class=\"dataframe\">\n",
              "  <thead>\n",
              "    <tr style=\"text-align: right;\">\n",
              "      <th></th>\n",
              "      <th>Engine size</th>\n",
              "      <th>Year of manufacture</th>\n",
              "      <th>Mileage</th>\n",
              "      <th>Fuel_Type_num</th>\n",
              "      <th>Manufacturer_num</th>\n",
              "      <th>Model_num</th>\n",
              "    </tr>\n",
              "  </thead>\n",
              "  <tbody>\n",
              "    <tr>\n",
              "      <th>39087</th>\n",
              "      <td>1.4</td>\n",
              "      <td>1990</td>\n",
              "      <td>143415</td>\n",
              "      <td>2</td>\n",
              "      <td>1</td>\n",
              "      <td>3</td>\n",
              "    </tr>\n",
              "    <tr>\n",
              "      <th>30893</th>\n",
              "      <td>1.0</td>\n",
              "      <td>1990</td>\n",
              "      <td>259900</td>\n",
              "      <td>2</td>\n",
              "      <td>4</td>\n",
              "      <td>9</td>\n",
              "    </tr>\n",
              "    <tr>\n",
              "      <th>45278</th>\n",
              "      <td>2.0</td>\n",
              "      <td>2006</td>\n",
              "      <td>106750</td>\n",
              "      <td>1</td>\n",
              "      <td>3</td>\n",
              "      <td>11</td>\n",
              "    </tr>\n",
              "    <tr>\n",
              "      <th>16398</th>\n",
              "      <td>1.8</td>\n",
              "      <td>2001</td>\n",
              "      <td>126649</td>\n",
              "      <td>1</td>\n",
              "      <td>3</td>\n",
              "      <td>11</td>\n",
              "    </tr>\n",
              "    <tr>\n",
              "      <th>13653</th>\n",
              "      <td>2.0</td>\n",
              "      <td>1992</td>\n",
              "      <td>66179</td>\n",
              "      <td>2</td>\n",
              "      <td>2</td>\n",
              "      <td>0</td>\n",
              "    </tr>\n",
              "    <tr>\n",
              "      <th>...</th>\n",
              "      <td>...</td>\n",
              "      <td>...</td>\n",
              "      <td>...</td>\n",
              "      <td>...</td>\n",
              "      <td>...</td>\n",
              "      <td>...</td>\n",
              "    </tr>\n",
              "    <tr>\n",
              "      <th>11284</th>\n",
              "      <td>1.2</td>\n",
              "      <td>1984</td>\n",
              "      <td>279567</td>\n",
              "      <td>1</td>\n",
              "      <td>3</td>\n",
              "      <td>13</td>\n",
              "    </tr>\n",
              "    <tr>\n",
              "      <th>44732</th>\n",
              "      <td>1.2</td>\n",
              "      <td>2010</td>\n",
              "      <td>108027</td>\n",
              "      <td>0</td>\n",
              "      <td>4</td>\n",
              "      <td>5</td>\n",
              "    </tr>\n",
              "    <tr>\n",
              "      <th>38158</th>\n",
              "      <td>2.0</td>\n",
              "      <td>2016</td>\n",
              "      <td>72963</td>\n",
              "      <td>0</td>\n",
              "      <td>4</td>\n",
              "      <td>8</td>\n",
              "    </tr>\n",
              "    <tr>\n",
              "      <th>860</th>\n",
              "      <td>2.4</td>\n",
              "      <td>1988</td>\n",
              "      <td>275595</td>\n",
              "      <td>0</td>\n",
              "      <td>0</td>\n",
              "      <td>12</td>\n",
              "    </tr>\n",
              "    <tr>\n",
              "      <th>15795</th>\n",
              "      <td>1.4</td>\n",
              "      <td>1996</td>\n",
              "      <td>58043</td>\n",
              "      <td>2</td>\n",
              "      <td>4</td>\n",
              "      <td>8</td>\n",
              "    </tr>\n",
              "  </tbody>\n",
              "</table>\n",
              "<p>40000 rows × 6 columns</p>\n",
              "</div>"
            ],
            "text/plain": [
              "       Engine size  Year of manufacture  Mileage  Fuel_Type_num  \\\n",
              "39087          1.4                 1990   143415              2   \n",
              "30893          1.0                 1990   259900              2   \n",
              "45278          2.0                 2006   106750              1   \n",
              "16398          1.8                 2001   126649              1   \n",
              "13653          2.0                 1992    66179              2   \n",
              "...            ...                  ...      ...            ...   \n",
              "11284          1.2                 1984   279567              1   \n",
              "44732          1.2                 2010   108027              0   \n",
              "38158          2.0                 2016    72963              0   \n",
              "860            2.4                 1988   275595              0   \n",
              "15795          1.4                 1996    58043              2   \n",
              "\n",
              "       Manufacturer_num  Model_num  \n",
              "39087                 1          3  \n",
              "30893                 4          9  \n",
              "45278                 3         11  \n",
              "16398                 3         11  \n",
              "13653                 2          0  \n",
              "...                 ...        ...  \n",
              "11284                 3         13  \n",
              "44732                 4          5  \n",
              "38158                 4          8  \n",
              "860                   0         12  \n",
              "15795                 4          8  \n",
              "\n",
              "[40000 rows x 6 columns]"
            ]
          },
          "execution_count": 30,
          "metadata": {},
          "output_type": "execute_result"
        }
      ],
      "source": [
        "# Splitting the dataset for training and testing\n",
        "X_train, X_test, y_train, y_test = train_test_split(X, y, test_size=0.2, random_state=42)\n",
        "X_train"
      ]
    },
    {
      "cell_type": "code",
      "execution_count": 31,
      "metadata": {
        "colab": {
          "base_uri": "https://localhost:8080/",
          "height": 461
        },
        "id": "i8SNngfpoHBP",
        "outputId": "0c4e4a20-24e3-43b3-fdd0-bc7d29663bda"
      },
      "outputs": [
        {
          "data": {
            "text/html": [
              "<div>\n",
              "<style scoped>\n",
              "    .dataframe tbody tr th:only-of-type {\n",
              "        vertical-align: middle;\n",
              "    }\n",
              "\n",
              "    .dataframe tbody tr th {\n",
              "        vertical-align: top;\n",
              "    }\n",
              "\n",
              "    .dataframe thead th {\n",
              "        text-align: right;\n",
              "    }\n",
              "</style>\n",
              "<table border=\"1\" class=\"dataframe\">\n",
              "  <thead>\n",
              "    <tr style=\"text-align: right;\">\n",
              "      <th></th>\n",
              "      <th>const</th>\n",
              "      <th>Engine size</th>\n",
              "      <th>Year of manufacture</th>\n",
              "      <th>Mileage</th>\n",
              "      <th>Fuel_Type_num</th>\n",
              "      <th>Manufacturer_num</th>\n",
              "      <th>Model_num</th>\n",
              "    </tr>\n",
              "  </thead>\n",
              "  <tbody>\n",
              "    <tr>\n",
              "      <th>39087</th>\n",
              "      <td>1.0</td>\n",
              "      <td>1.4</td>\n",
              "      <td>1990</td>\n",
              "      <td>143415</td>\n",
              "      <td>2</td>\n",
              "      <td>1</td>\n",
              "      <td>3</td>\n",
              "    </tr>\n",
              "    <tr>\n",
              "      <th>30893</th>\n",
              "      <td>1.0</td>\n",
              "      <td>1.0</td>\n",
              "      <td>1990</td>\n",
              "      <td>259900</td>\n",
              "      <td>2</td>\n",
              "      <td>4</td>\n",
              "      <td>9</td>\n",
              "    </tr>\n",
              "    <tr>\n",
              "      <th>45278</th>\n",
              "      <td>1.0</td>\n",
              "      <td>2.0</td>\n",
              "      <td>2006</td>\n",
              "      <td>106750</td>\n",
              "      <td>1</td>\n",
              "      <td>3</td>\n",
              "      <td>11</td>\n",
              "    </tr>\n",
              "    <tr>\n",
              "      <th>16398</th>\n",
              "      <td>1.0</td>\n",
              "      <td>1.8</td>\n",
              "      <td>2001</td>\n",
              "      <td>126649</td>\n",
              "      <td>1</td>\n",
              "      <td>3</td>\n",
              "      <td>11</td>\n",
              "    </tr>\n",
              "    <tr>\n",
              "      <th>13653</th>\n",
              "      <td>1.0</td>\n",
              "      <td>2.0</td>\n",
              "      <td>1992</td>\n",
              "      <td>66179</td>\n",
              "      <td>2</td>\n",
              "      <td>2</td>\n",
              "      <td>0</td>\n",
              "    </tr>\n",
              "    <tr>\n",
              "      <th>...</th>\n",
              "      <td>...</td>\n",
              "      <td>...</td>\n",
              "      <td>...</td>\n",
              "      <td>...</td>\n",
              "      <td>...</td>\n",
              "      <td>...</td>\n",
              "      <td>...</td>\n",
              "    </tr>\n",
              "    <tr>\n",
              "      <th>11284</th>\n",
              "      <td>1.0</td>\n",
              "      <td>1.2</td>\n",
              "      <td>1984</td>\n",
              "      <td>279567</td>\n",
              "      <td>1</td>\n",
              "      <td>3</td>\n",
              "      <td>13</td>\n",
              "    </tr>\n",
              "    <tr>\n",
              "      <th>44732</th>\n",
              "      <td>1.0</td>\n",
              "      <td>1.2</td>\n",
              "      <td>2010</td>\n",
              "      <td>108027</td>\n",
              "      <td>0</td>\n",
              "      <td>4</td>\n",
              "      <td>5</td>\n",
              "    </tr>\n",
              "    <tr>\n",
              "      <th>38158</th>\n",
              "      <td>1.0</td>\n",
              "      <td>2.0</td>\n",
              "      <td>2016</td>\n",
              "      <td>72963</td>\n",
              "      <td>0</td>\n",
              "      <td>4</td>\n",
              "      <td>8</td>\n",
              "    </tr>\n",
              "    <tr>\n",
              "      <th>860</th>\n",
              "      <td>1.0</td>\n",
              "      <td>2.4</td>\n",
              "      <td>1988</td>\n",
              "      <td>275595</td>\n",
              "      <td>0</td>\n",
              "      <td>0</td>\n",
              "      <td>12</td>\n",
              "    </tr>\n",
              "    <tr>\n",
              "      <th>15795</th>\n",
              "      <td>1.0</td>\n",
              "      <td>1.4</td>\n",
              "      <td>1996</td>\n",
              "      <td>58043</td>\n",
              "      <td>2</td>\n",
              "      <td>4</td>\n",
              "      <td>8</td>\n",
              "    </tr>\n",
              "  </tbody>\n",
              "</table>\n",
              "<p>40000 rows × 7 columns</p>\n",
              "</div>"
            ],
            "text/plain": [
              "       const  Engine size  Year of manufacture  Mileage  Fuel_Type_num  \\\n",
              "39087    1.0          1.4                 1990   143415              2   \n",
              "30893    1.0          1.0                 1990   259900              2   \n",
              "45278    1.0          2.0                 2006   106750              1   \n",
              "16398    1.0          1.8                 2001   126649              1   \n",
              "13653    1.0          2.0                 1992    66179              2   \n",
              "...      ...          ...                  ...      ...            ...   \n",
              "11284    1.0          1.2                 1984   279567              1   \n",
              "44732    1.0          1.2                 2010   108027              0   \n",
              "38158    1.0          2.0                 2016    72963              0   \n",
              "860      1.0          2.4                 1988   275595              0   \n",
              "15795    1.0          1.4                 1996    58043              2   \n",
              "\n",
              "       Manufacturer_num  Model_num  \n",
              "39087                 1          3  \n",
              "30893                 4          9  \n",
              "45278                 3         11  \n",
              "16398                 3         11  \n",
              "13653                 2          0  \n",
              "...                 ...        ...  \n",
              "11284                 3         13  \n",
              "44732                 4          5  \n",
              "38158                 4          8  \n",
              "860                   0         12  \n",
              "15795                 4          8  \n",
              "\n",
              "[40000 rows x 7 columns]"
            ]
          },
          "execution_count": 31,
          "metadata": {},
          "output_type": "execute_result"
        }
      ],
      "source": [
        "# Adding constant to the X dataframe, for the intercept\n",
        "X_train = sm.add_constant(X_train)\n",
        "X_test  = sm.add_constant(X_test)\n",
        "X_train"
      ]
    },
    {
      "cell_type": "code",
      "execution_count": 32,
      "metadata": {
        "id": "nXG1K3VirDkW"
      },
      "outputs": [],
      "source": [
        "# Fit OLS\n",
        "model = sm.OLS(y_train, X_train)\n",
        "results = model.fit()"
      ]
    },
    {
      "cell_type": "code",
      "execution_count": 33,
      "metadata": {
        "colab": {
          "base_uri": "https://localhost:8080/",
          "height": 593
        },
        "id": "bcMJWn0GzAJc",
        "outputId": "19ec88ce-96dd-4816-dda6-a22108222da8"
      },
      "outputs": [
        {
          "data": {
            "text/html": [
              "<table class=\"simpletable\">\n",
              "<caption>OLS Regression Results</caption>\n",
              "<tr>\n",
              "  <th>Dep. Variable:</th>          <td>Price</td>      <th>  R-squared:         </th>  <td>   0.681</td>  \n",
              "</tr>\n",
              "<tr>\n",
              "  <th>Model:</th>                   <td>OLS</td>       <th>  Adj. R-squared:    </th>  <td>   0.681</td>  \n",
              "</tr>\n",
              "<tr>\n",
              "  <th>Method:</th>             <td>Least Squares</td>  <th>  F-statistic:       </th>  <td>1.423e+04</td> \n",
              "</tr>\n",
              "<tr>\n",
              "  <th>Date:</th>             <td>Sat, 20 Sep 2025</td> <th>  Prob (F-statistic):</th>   <td>  0.00</td>   \n",
              "</tr>\n",
              "<tr>\n",
              "  <th>Time:</th>                 <td>14:36:42</td>     <th>  Log-Likelihood:    </th> <td>-4.2211e+05</td>\n",
              "</tr>\n",
              "<tr>\n",
              "  <th>No. Observations:</th>      <td> 40000</td>      <th>  AIC:               </th>  <td>8.442e+05</td> \n",
              "</tr>\n",
              "<tr>\n",
              "  <th>Df Residuals:</th>          <td> 39993</td>      <th>  BIC:               </th>  <td>8.443e+05</td> \n",
              "</tr>\n",
              "<tr>\n",
              "  <th>Df Model:</th>              <td>     6</td>      <th>                     </th>      <td> </td>     \n",
              "</tr>\n",
              "<tr>\n",
              "  <th>Covariance Type:</th>      <td>nonrobust</td>    <th>                     </th>      <td> </td>     \n",
              "</tr>\n",
              "</table>\n",
              "<table class=\"simpletable\">\n",
              "<tr>\n",
              "           <td></td>              <th>coef</th>     <th>std err</th>      <th>t</th>      <th>P>|t|</th>  <th>[0.025</th>    <th>0.975]</th>  \n",
              "</tr>\n",
              "<tr>\n",
              "  <th>const</th>               <td>-1.975e+06</td> <td> 1.64e+04</td> <td> -120.402</td> <td> 0.000</td> <td>-2.01e+06</td> <td>-1.94e+06</td>\n",
              "</tr>\n",
              "<tr>\n",
              "  <th>Engine size</th>         <td> 8957.0847</td> <td>   66.636</td> <td>  134.417</td> <td> 0.000</td> <td> 8826.476</td> <td> 9087.694</td>\n",
              "</tr>\n",
              "<tr>\n",
              "  <th>Year of manufacture</th> <td>  987.1211</td> <td>    8.136</td> <td>  121.327</td> <td> 0.000</td> <td>  971.174</td> <td> 1003.068</td>\n",
              "</tr>\n",
              "<tr>\n",
              "  <th>Mileage</th>             <td>   -0.0380</td> <td>    0.001</td> <td>  -34.692</td> <td> 0.000</td> <td>   -0.040</td> <td>   -0.036</td>\n",
              "</tr>\n",
              "<tr>\n",
              "  <th>Fuel_Type_num</th>       <td> -422.0090</td> <td>   55.278</td> <td>   -7.634</td> <td> 0.000</td> <td> -530.356</td> <td> -313.662</td>\n",
              "</tr>\n",
              "<tr>\n",
              "  <th>Manufacturer_num</th>    <td>   -5.2068</td> <td>   35.263</td> <td>   -0.148</td> <td> 0.883</td> <td>  -74.323</td> <td>   63.909</td>\n",
              "</tr>\n",
              "<tr>\n",
              "  <th>Model_num</th>           <td>  -24.5754</td> <td>   13.466</td> <td>   -1.825</td> <td> 0.068</td> <td>  -50.970</td> <td>    1.819</td>\n",
              "</tr>\n",
              "</table>\n",
              "<table class=\"simpletable\">\n",
              "<tr>\n",
              "  <th>Omnibus:</th>       <td>29269.407</td> <th>  Durbin-Watson:     </th>  <td>   2.016</td> \n",
              "</tr>\n",
              "<tr>\n",
              "  <th>Prob(Omnibus):</th>  <td> 0.000</td>   <th>  Jarque-Bera (JB):  </th> <td>878349.668</td>\n",
              "</tr>\n",
              "<tr>\n",
              "  <th>Skew:</th>           <td> 3.203</td>   <th>  Prob(JB):          </th>  <td>    0.00</td> \n",
              "</tr>\n",
              "<tr>\n",
              "  <th>Kurtosis:</th>       <td>25.045</td>   <th>  Cond. No.          </th>  <td>4.71e+07</td> \n",
              "</tr>\n",
              "</table><br/><br/>Notes:<br/>[1] Standard Errors assume that the covariance matrix of the errors is correctly specified.<br/>[2] The condition number is large, 4.71e+07. This might indicate that there are<br/>strong multicollinearity or other numerical problems."
            ],
            "text/latex": [
              "\\begin{center}\n",
              "\\begin{tabular}{lclc}\n",
              "\\toprule\n",
              "\\textbf{Dep. Variable:}      &      Price       & \\textbf{  R-squared:         } &      0.681   \\\\\n",
              "\\textbf{Model:}              &       OLS        & \\textbf{  Adj. R-squared:    } &      0.681   \\\\\n",
              "\\textbf{Method:}             &  Least Squares   & \\textbf{  F-statistic:       } &  1.423e+04   \\\\\n",
              "\\textbf{Date:}               & Sat, 20 Sep 2025 & \\textbf{  Prob (F-statistic):} &      0.00    \\\\\n",
              "\\textbf{Time:}               &     14:36:42     & \\textbf{  Log-Likelihood:    } & -4.2211e+05  \\\\\n",
              "\\textbf{No. Observations:}   &       40000      & \\textbf{  AIC:               } &  8.442e+05   \\\\\n",
              "\\textbf{Df Residuals:}       &       39993      & \\textbf{  BIC:               } &  8.443e+05   \\\\\n",
              "\\textbf{Df Model:}           &           6      & \\textbf{                     } &              \\\\\n",
              "\\textbf{Covariance Type:}    &    nonrobust     & \\textbf{                     } &              \\\\\n",
              "\\bottomrule\n",
              "\\end{tabular}\n",
              "\\begin{tabular}{lcccccc}\n",
              "                             & \\textbf{coef} & \\textbf{std err} & \\textbf{t} & \\textbf{P$> |$t$|$} & \\textbf{[0.025} & \\textbf{0.975]}  \\\\\n",
              "\\midrule\n",
              "\\textbf{const}               &   -1.975e+06  &     1.64e+04     &  -120.402  &         0.000        &    -2.01e+06    &    -1.94e+06     \\\\\n",
              "\\textbf{Engine size}         &    8957.0847  &       66.636     &   134.417  &         0.000        &     8826.476    &     9087.694     \\\\\n",
              "\\textbf{Year of manufacture} &     987.1211  &        8.136     &   121.327  &         0.000        &      971.174    &     1003.068     \\\\\n",
              "\\textbf{Mileage}             &      -0.0380  &        0.001     &   -34.692  &         0.000        &       -0.040    &       -0.036     \\\\\n",
              "\\textbf{Fuel\\_Type\\_num}     &    -422.0090  &       55.278     &    -7.634  &         0.000        &     -530.356    &     -313.662     \\\\\n",
              "\\textbf{Manufacturer\\_num}   &      -5.2068  &       35.263     &    -0.148  &         0.883        &      -74.323    &       63.909     \\\\\n",
              "\\textbf{Model\\_num}          &     -24.5754  &       13.466     &    -1.825  &         0.068        &      -50.970    &        1.819     \\\\\n",
              "\\bottomrule\n",
              "\\end{tabular}\n",
              "\\begin{tabular}{lclc}\n",
              "\\textbf{Omnibus:}       & 29269.407 & \\textbf{  Durbin-Watson:     } &     2.016   \\\\\n",
              "\\textbf{Prob(Omnibus):} &    0.000  & \\textbf{  Jarque-Bera (JB):  } & 878349.668  \\\\\n",
              "\\textbf{Skew:}          &    3.203  & \\textbf{  Prob(JB):          } &      0.00   \\\\\n",
              "\\textbf{Kurtosis:}      &   25.045  & \\textbf{  Cond. No.          } &  4.71e+07   \\\\\n",
              "\\bottomrule\n",
              "\\end{tabular}\n",
              "%\\caption{OLS Regression Results}\n",
              "\\end{center}\n",
              "\n",
              "Notes: \\newline\n",
              " [1] Standard Errors assume that the covariance matrix of the errors is correctly specified. \\newline\n",
              " [2] The condition number is large, 4.71e+07. This might indicate that there are \\newline\n",
              " strong multicollinearity or other numerical problems."
            ],
            "text/plain": [
              "<class 'statsmodels.iolib.summary.Summary'>\n",
              "\"\"\"\n",
              "                            OLS Regression Results                            \n",
              "==============================================================================\n",
              "Dep. Variable:                  Price   R-squared:                       0.681\n",
              "Model:                            OLS   Adj. R-squared:                  0.681\n",
              "Method:                 Least Squares   F-statistic:                 1.423e+04\n",
              "Date:                Sat, 20 Sep 2025   Prob (F-statistic):               0.00\n",
              "Time:                        14:36:42   Log-Likelihood:            -4.2211e+05\n",
              "No. Observations:               40000   AIC:                         8.442e+05\n",
              "Df Residuals:                   39993   BIC:                         8.443e+05\n",
              "Df Model:                           6                                         \n",
              "Covariance Type:            nonrobust                                         \n",
              "=======================================================================================\n",
              "                          coef    std err          t      P>|t|      [0.025      0.975]\n",
              "---------------------------------------------------------------------------------------\n",
              "const               -1.975e+06   1.64e+04   -120.402      0.000   -2.01e+06   -1.94e+06\n",
              "Engine size          8957.0847     66.636    134.417      0.000    8826.476    9087.694\n",
              "Year of manufacture   987.1211      8.136    121.327      0.000     971.174    1003.068\n",
              "Mileage                -0.0380      0.001    -34.692      0.000      -0.040      -0.036\n",
              "Fuel_Type_num        -422.0090     55.278     -7.634      0.000    -530.356    -313.662\n",
              "Manufacturer_num       -5.2068     35.263     -0.148      0.883     -74.323      63.909\n",
              "Model_num             -24.5754     13.466     -1.825      0.068     -50.970       1.819\n",
              "==============================================================================\n",
              "Omnibus:                    29269.407   Durbin-Watson:                   2.016\n",
              "Prob(Omnibus):                  0.000   Jarque-Bera (JB):           878349.668\n",
              "Skew:                           3.203   Prob(JB):                         0.00\n",
              "Kurtosis:                      25.045   Cond. No.                     4.71e+07\n",
              "==============================================================================\n",
              "\n",
              "Notes:\n",
              "[1] Standard Errors assume that the covariance matrix of the errors is correctly specified.\n",
              "[2] The condition number is large, 4.71e+07. This might indicate that there are\n",
              "strong multicollinearity or other numerical problems.\n",
              "\"\"\""
            ]
          },
          "execution_count": 33,
          "metadata": {},
          "output_type": "execute_result"
        }
      ],
      "source": [
        "results.summary()"
      ]
    },
    {
      "cell_type": "code",
      "execution_count": 34,
      "metadata": {
        "colab": {
          "base_uri": "https://localhost:8080/"
        },
        "id": "ds4b4UFJsgCH",
        "outputId": "c2d57b44-ff2b-4df2-85bc-67bb3cda1733"
      },
      "outputs": [
        {
          "name": "stdout",
          "output_type": "stream",
          "text": [
            "Test RMSE: 9434.706421436285\n"
          ]
        }
      ],
      "source": [
        "y_pred = results.predict(X_test) # Running predictions\n",
        "rmse = mean_squared_error(y_test, y_pred) # Computing RMSE\n",
        "print(\"Test RMSE:\", np.sqrt(rmse))"
      ]
    },
    {
      "cell_type": "code",
      "execution_count": 35,
      "metadata": {
        "colab": {
          "base_uri": "https://localhost:8080/"
        },
        "id": "633y-AjToptv",
        "outputId": "c4bfb68c-90f0-46ed-a0e1-d37d219700b1"
      },
      "outputs": [
        {
          "name": "stdout",
          "output_type": "stream",
          "text": [
            "Test R²: 0.6719903658782866\n"
          ]
        }
      ],
      "source": [
        "y_pred_test = results.predict(X_test)\n",
        "ss_res = np.sum((y_test - y_pred_test)**2)\n",
        "ss_tot = np.sum((y_test - np.mean(y_test))**2)\n",
        "print(\"Test R²:\", 1 - ss_res/ss_tot)"
      ]
    },
    {
      "cell_type": "markdown",
      "metadata": {
        "id": "okTbCTO-ziRX"
      },
      "source": [
        "Option 2: With removing the outliers"
      ]
    },
    {
      "cell_type": "code",
      "execution_count": 36,
      "metadata": {
        "id": "pfeCYgU3yd1M"
      },
      "outputs": [],
      "source": [
        "# For Regression\n",
        "X_clean = df_clean[['Engine size','Year of manufacture','Mileage','Fuel_Type_num','Manufacturer_num','Model_num']] # --> Features\n",
        "y_clean = df_clean['Price'] # --> The Target"
      ]
    },
    {
      "cell_type": "code",
      "execution_count": 37,
      "metadata": {
        "colab": {
          "base_uri": "https://localhost:8080/"
        },
        "id": "40Yedzt5yqlW",
        "outputId": "42559d60-9f67-46ae-8d27-2d377402bc99"
      },
      "outputs": [
        {
          "name": "stdout",
          "output_type": "stream",
          "text": [
            "X shape: (47351, 6)\n",
            "y shape: (47351,)\n"
          ]
        }
      ],
      "source": [
        "print(\"X shape:\", X_clean.shape)\n",
        "print(\"y shape:\", y_clean.shape)"
      ]
    },
    {
      "cell_type": "code",
      "execution_count": 38,
      "metadata": {
        "colab": {
          "base_uri": "https://localhost:8080/",
          "height": 461
        },
        "id": "qFy7Gde3yto8",
        "outputId": "f254ba15-47d8-443b-81d6-d0814dff7057"
      },
      "outputs": [
        {
          "data": {
            "text/html": [
              "<div>\n",
              "<style scoped>\n",
              "    .dataframe tbody tr th:only-of-type {\n",
              "        vertical-align: middle;\n",
              "    }\n",
              "\n",
              "    .dataframe tbody tr th {\n",
              "        vertical-align: top;\n",
              "    }\n",
              "\n",
              "    .dataframe thead th {\n",
              "        text-align: right;\n",
              "    }\n",
              "</style>\n",
              "<table border=\"1\" class=\"dataframe\">\n",
              "  <thead>\n",
              "    <tr style=\"text-align: right;\">\n",
              "      <th></th>\n",
              "      <th>Engine size</th>\n",
              "      <th>Year of manufacture</th>\n",
              "      <th>Mileage</th>\n",
              "      <th>Fuel_Type_num</th>\n",
              "      <th>Manufacturer_num</th>\n",
              "      <th>Model_num</th>\n",
              "    </tr>\n",
              "  </thead>\n",
              "  <tbody>\n",
              "    <tr>\n",
              "      <th>27354</th>\n",
              "      <td>4.0</td>\n",
              "      <td>2006</td>\n",
              "      <td>92118</td>\n",
              "      <td>2</td>\n",
              "      <td>0</td>\n",
              "      <td>6</td>\n",
              "    </tr>\n",
              "    <tr>\n",
              "      <th>24080</th>\n",
              "      <td>2.0</td>\n",
              "      <td>2005</td>\n",
              "      <td>116804</td>\n",
              "      <td>0</td>\n",
              "      <td>4</td>\n",
              "      <td>8</td>\n",
              "    </tr>\n",
              "    <tr>\n",
              "      <th>35480</th>\n",
              "      <td>1.0</td>\n",
              "      <td>2019</td>\n",
              "      <td>17949</td>\n",
              "      <td>0</td>\n",
              "      <td>1</td>\n",
              "      <td>3</td>\n",
              "    </tr>\n",
              "    <tr>\n",
              "      <th>5704</th>\n",
              "      <td>1.4</td>\n",
              "      <td>2018</td>\n",
              "      <td>32960</td>\n",
              "      <td>1</td>\n",
              "      <td>3</td>\n",
              "      <td>13</td>\n",
              "    </tr>\n",
              "    <tr>\n",
              "      <th>46748</th>\n",
              "      <td>1.0</td>\n",
              "      <td>2004</td>\n",
              "      <td>45775</td>\n",
              "      <td>2</td>\n",
              "      <td>4</td>\n",
              "      <td>9</td>\n",
              "    </tr>\n",
              "    <tr>\n",
              "      <th>...</th>\n",
              "      <td>...</td>\n",
              "      <td>...</td>\n",
              "      <td>...</td>\n",
              "      <td>...</td>\n",
              "      <td>...</td>\n",
              "      <td>...</td>\n",
              "    </tr>\n",
              "    <tr>\n",
              "      <th>11919</th>\n",
              "      <td>2.0</td>\n",
              "      <td>1993</td>\n",
              "      <td>175766</td>\n",
              "      <td>1</td>\n",
              "      <td>3</td>\n",
              "      <td>11</td>\n",
              "    </tr>\n",
              "    <tr>\n",
              "      <th>47240</th>\n",
              "      <td>2.0</td>\n",
              "      <td>1994</td>\n",
              "      <td>155467</td>\n",
              "      <td>0</td>\n",
              "      <td>1</td>\n",
              "      <td>7</td>\n",
              "    </tr>\n",
              "    <tr>\n",
              "      <th>40268</th>\n",
              "      <td>1.0</td>\n",
              "      <td>2003</td>\n",
              "      <td>30728</td>\n",
              "      <td>1</td>\n",
              "      <td>3</td>\n",
              "      <td>13</td>\n",
              "    </tr>\n",
              "    <tr>\n",
              "      <th>918</th>\n",
              "      <td>1.4</td>\n",
              "      <td>2017</td>\n",
              "      <td>34908</td>\n",
              "      <td>1</td>\n",
              "      <td>3</td>\n",
              "      <td>10</td>\n",
              "    </tr>\n",
              "    <tr>\n",
              "      <th>16685</th>\n",
              "      <td>2.6</td>\n",
              "      <td>1995</td>\n",
              "      <td>179697</td>\n",
              "      <td>2</td>\n",
              "      <td>2</td>\n",
              "      <td>1</td>\n",
              "    </tr>\n",
              "  </tbody>\n",
              "</table>\n",
              "<p>37880 rows × 6 columns</p>\n",
              "</div>"
            ],
            "text/plain": [
              "       Engine size  Year of manufacture  Mileage  Fuel_Type_num  \\\n",
              "27354          4.0                 2006    92118              2   \n",
              "24080          2.0                 2005   116804              0   \n",
              "35480          1.0                 2019    17949              0   \n",
              "5704           1.4                 2018    32960              1   \n",
              "46748          1.0                 2004    45775              2   \n",
              "...            ...                  ...      ...            ...   \n",
              "11919          2.0                 1993   175766              1   \n",
              "47240          2.0                 1994   155467              0   \n",
              "40268          1.0                 2003    30728              1   \n",
              "918            1.4                 2017    34908              1   \n",
              "16685          2.6                 1995   179697              2   \n",
              "\n",
              "       Manufacturer_num  Model_num  \n",
              "27354                 0          6  \n",
              "24080                 4          8  \n",
              "35480                 1          3  \n",
              "5704                  3         13  \n",
              "46748                 4          9  \n",
              "...                 ...        ...  \n",
              "11919                 3         11  \n",
              "47240                 1          7  \n",
              "40268                 3         13  \n",
              "918                   3         10  \n",
              "16685                 2          1  \n",
              "\n",
              "[37880 rows x 6 columns]"
            ]
          },
          "execution_count": 38,
          "metadata": {},
          "output_type": "execute_result"
        }
      ],
      "source": [
        "X_train2, X_test2, y_train2, y_test2 = train_test_split(X_clean, y_clean, test_size=0.2, random_state=42)\n",
        "X_train2"
      ]
    },
    {
      "cell_type": "code",
      "execution_count": 39,
      "metadata": {
        "colab": {
          "base_uri": "https://localhost:8080/",
          "height": 461
        },
        "id": "AnTKiTFyy25I",
        "outputId": "28cbf4ff-574c-4457-9b83-14656cf1e7af"
      },
      "outputs": [
        {
          "data": {
            "text/html": [
              "<div>\n",
              "<style scoped>\n",
              "    .dataframe tbody tr th:only-of-type {\n",
              "        vertical-align: middle;\n",
              "    }\n",
              "\n",
              "    .dataframe tbody tr th {\n",
              "        vertical-align: top;\n",
              "    }\n",
              "\n",
              "    .dataframe thead th {\n",
              "        text-align: right;\n",
              "    }\n",
              "</style>\n",
              "<table border=\"1\" class=\"dataframe\">\n",
              "  <thead>\n",
              "    <tr style=\"text-align: right;\">\n",
              "      <th></th>\n",
              "      <th>const</th>\n",
              "      <th>Engine size</th>\n",
              "      <th>Year of manufacture</th>\n",
              "      <th>Mileage</th>\n",
              "      <th>Fuel_Type_num</th>\n",
              "      <th>Manufacturer_num</th>\n",
              "      <th>Model_num</th>\n",
              "    </tr>\n",
              "  </thead>\n",
              "  <tbody>\n",
              "    <tr>\n",
              "      <th>27354</th>\n",
              "      <td>1.0</td>\n",
              "      <td>4.0</td>\n",
              "      <td>2006</td>\n",
              "      <td>92118</td>\n",
              "      <td>2</td>\n",
              "      <td>0</td>\n",
              "      <td>6</td>\n",
              "    </tr>\n",
              "    <tr>\n",
              "      <th>24080</th>\n",
              "      <td>1.0</td>\n",
              "      <td>2.0</td>\n",
              "      <td>2005</td>\n",
              "      <td>116804</td>\n",
              "      <td>0</td>\n",
              "      <td>4</td>\n",
              "      <td>8</td>\n",
              "    </tr>\n",
              "    <tr>\n",
              "      <th>35480</th>\n",
              "      <td>1.0</td>\n",
              "      <td>1.0</td>\n",
              "      <td>2019</td>\n",
              "      <td>17949</td>\n",
              "      <td>0</td>\n",
              "      <td>1</td>\n",
              "      <td>3</td>\n",
              "    </tr>\n",
              "    <tr>\n",
              "      <th>5704</th>\n",
              "      <td>1.0</td>\n",
              "      <td>1.4</td>\n",
              "      <td>2018</td>\n",
              "      <td>32960</td>\n",
              "      <td>1</td>\n",
              "      <td>3</td>\n",
              "      <td>13</td>\n",
              "    </tr>\n",
              "    <tr>\n",
              "      <th>46748</th>\n",
              "      <td>1.0</td>\n",
              "      <td>1.0</td>\n",
              "      <td>2004</td>\n",
              "      <td>45775</td>\n",
              "      <td>2</td>\n",
              "      <td>4</td>\n",
              "      <td>9</td>\n",
              "    </tr>\n",
              "    <tr>\n",
              "      <th>...</th>\n",
              "      <td>...</td>\n",
              "      <td>...</td>\n",
              "      <td>...</td>\n",
              "      <td>...</td>\n",
              "      <td>...</td>\n",
              "      <td>...</td>\n",
              "      <td>...</td>\n",
              "    </tr>\n",
              "    <tr>\n",
              "      <th>11919</th>\n",
              "      <td>1.0</td>\n",
              "      <td>2.0</td>\n",
              "      <td>1993</td>\n",
              "      <td>175766</td>\n",
              "      <td>1</td>\n",
              "      <td>3</td>\n",
              "      <td>11</td>\n",
              "    </tr>\n",
              "    <tr>\n",
              "      <th>47240</th>\n",
              "      <td>1.0</td>\n",
              "      <td>2.0</td>\n",
              "      <td>1994</td>\n",
              "      <td>155467</td>\n",
              "      <td>0</td>\n",
              "      <td>1</td>\n",
              "      <td>7</td>\n",
              "    </tr>\n",
              "    <tr>\n",
              "      <th>40268</th>\n",
              "      <td>1.0</td>\n",
              "      <td>1.0</td>\n",
              "      <td>2003</td>\n",
              "      <td>30728</td>\n",
              "      <td>1</td>\n",
              "      <td>3</td>\n",
              "      <td>13</td>\n",
              "    </tr>\n",
              "    <tr>\n",
              "      <th>918</th>\n",
              "      <td>1.0</td>\n",
              "      <td>1.4</td>\n",
              "      <td>2017</td>\n",
              "      <td>34908</td>\n",
              "      <td>1</td>\n",
              "      <td>3</td>\n",
              "      <td>10</td>\n",
              "    </tr>\n",
              "    <tr>\n",
              "      <th>16685</th>\n",
              "      <td>1.0</td>\n",
              "      <td>2.6</td>\n",
              "      <td>1995</td>\n",
              "      <td>179697</td>\n",
              "      <td>2</td>\n",
              "      <td>2</td>\n",
              "      <td>1</td>\n",
              "    </tr>\n",
              "  </tbody>\n",
              "</table>\n",
              "<p>37880 rows × 7 columns</p>\n",
              "</div>"
            ],
            "text/plain": [
              "       const  Engine size  Year of manufacture  Mileage  Fuel_Type_num  \\\n",
              "27354    1.0          4.0                 2006    92118              2   \n",
              "24080    1.0          2.0                 2005   116804              0   \n",
              "35480    1.0          1.0                 2019    17949              0   \n",
              "5704     1.0          1.4                 2018    32960              1   \n",
              "46748    1.0          1.0                 2004    45775              2   \n",
              "...      ...          ...                  ...      ...            ...   \n",
              "11919    1.0          2.0                 1993   175766              1   \n",
              "47240    1.0          2.0                 1994   155467              0   \n",
              "40268    1.0          1.0                 2003    30728              1   \n",
              "918      1.0          1.4                 2017    34908              1   \n",
              "16685    1.0          2.6                 1995   179697              2   \n",
              "\n",
              "       Manufacturer_num  Model_num  \n",
              "27354                 0          6  \n",
              "24080                 4          8  \n",
              "35480                 1          3  \n",
              "5704                  3         13  \n",
              "46748                 4          9  \n",
              "...                 ...        ...  \n",
              "11919                 3         11  \n",
              "47240                 1          7  \n",
              "40268                 3         13  \n",
              "918                   3         10  \n",
              "16685                 2          1  \n",
              "\n",
              "[37880 rows x 7 columns]"
            ]
          },
          "execution_count": 39,
          "metadata": {},
          "output_type": "execute_result"
        }
      ],
      "source": [
        "# Adding constant to the X dataframe, for the intercept\n",
        "X_train2 = sm.add_constant(X_train2)\n",
        "X_test2  = sm.add_constant(X_test2)\n",
        "X_train2"
      ]
    },
    {
      "cell_type": "code",
      "execution_count": 40,
      "metadata": {
        "id": "J-fQjWwVy8qC"
      },
      "outputs": [],
      "source": [
        "# Fit OLS\n",
        "final_model = sm.OLS(y_train2, X_train2).fit()"
      ]
    },
    {
      "cell_type": "code",
      "execution_count": 41,
      "metadata": {
        "colab": {
          "base_uri": "https://localhost:8080/"
        },
        "id": "tpwh7f-dzFSI",
        "outputId": "7ce2d861-6a0e-4385-8458-a2c1f161fe71"
      },
      "outputs": [
        {
          "name": "stdout",
          "output_type": "stream",
          "text": [
            "Test RMSE: 4781.635005438407\n"
          ]
        }
      ],
      "source": [
        "y_pred2 = final_model.predict(X_test2) # Running predictions\n",
        "rmse2 = mean_squared_error(y_test2, y_pred2) # Computing RMSE\n",
        "print(\"Test RMSE:\", np.sqrt(rmse2))"
      ]
    },
    {
      "cell_type": "code",
      "execution_count": 42,
      "metadata": {},
      "outputs": [
        {
          "data": {
            "text/plain": [
              "30018     5442.890734\n",
              "24468    14141.423910\n",
              "15690    28375.806962\n",
              "24814    12280.196820\n",
              "40343    18534.427979\n",
              "             ...     \n",
              "6131     18003.323086\n",
              "10084     6333.770171\n",
              "6857     15724.565414\n",
              "48354     5980.445225\n",
              "31339     6782.974815\n",
              "Length: 9471, dtype: float64"
            ]
          },
          "execution_count": 42,
          "metadata": {},
          "output_type": "execute_result"
        }
      ],
      "source": [
        "y_pred2"
      ]
    },
    {
      "cell_type": "code",
      "execution_count": 43,
      "metadata": {},
      "outputs": [
        {
          "data": {
            "text/plain": [
              "30018     2790\n",
              "24468    13991\n",
              "15690    34732\n",
              "24814     7164\n",
              "40343    13869\n",
              "         ...  \n",
              "6131     11276\n",
              "10084     4258\n",
              "6857     11179\n",
              "48354     4605\n",
              "31339     4101\n",
              "Name: Price, Length: 9471, dtype: int64"
            ]
          },
          "execution_count": 43,
          "metadata": {},
          "output_type": "execute_result"
        }
      ],
      "source": [
        "y_test2"
      ]
    },
    {
      "cell_type": "code",
      "execution_count": 44,
      "metadata": {},
      "outputs": [
        {
          "data": {
            "image/png": "[encoded data removed]",
            "text/plain": [
              "<Figure size 1000x600 with 1 Axes>"
            ]
          },
          "metadata": {},
          "output_type": "display_data"
        }
      ],
      "source": [
        "# Numpy array\n",
        "y_true = np.asarray(y_test2) # the actual values\n",
        "y_hat  = np.asarray(y_pred2) # the predicted \n",
        "\n",
        "# min & max \n",
        "xy_min = float(np.min([y_true.min(), y_hat.min()]))\n",
        "xy_max = float(np.max([y_true.max(), y_hat.max()]))\n",
        "\n",
        "\n",
        "# plot\n",
        "plt.figure(figsize=(10, 6))\n",
        "plt.scatter(y_true, y_hat, alpha=0.6, color=\"crimson\", s=18)\n",
        "plt.plot([xy_min, xy_max], [xy_min, xy_max], \"r--\", lw=2)  \n",
        "plt.xlim(0, xy_max)\n",
        "plt.ylim(0, xy_max)\n",
        "plt.xlabel(\"Real Price\")\n",
        "plt.ylabel(\"Predicted Price\")\n",
        "plt.title(\"Real vs Prediction\")\n",
        "plt.grid(alpha=0.3)\n",
        "plt.show()"
      ]
    },
    {
      "cell_type": "markdown",
      "metadata": {},
      "source": [
        "Prediction on new data"
      ]
    },
    {
      "cell_type": "code",
      "execution_count": 45,
      "metadata": {
        "id": "2H7xTGOX0CDC"
      },
      "outputs": [],
      "source": [
        "def predict_price(engine_size, year, mileage, fuel_type, manufacturer, model):\n",
        "    # make dictionaries that convert category text --> numeric codes\n",
        "    fuel_map = {cat: code for code, cat in enumerate(df['Fuel type'].astype('category').cat.categories)}\n",
        "    manu_map = {cat: code for code, cat in enumerate(df['Manufacturer'].astype('category').cat.categories)}\n",
        "    model_map = {cat: code for code, cat in enumerate(df['Model'].astype('category').cat.categories)}\n",
        "\n",
        "    # change user input (text) into same numbers we used in training\n",
        "    fuel_val = fuel_map.get(fuel_type, 0)      # example: Petrol --> 2\n",
        "    manu_val = manu_map.get(manufacturer, 0)\n",
        "    model_val = model_map.get(model, 0)\n",
        "\n",
        "    # put features together into one row (1.0 > intercept)\n",
        "    x_new = np.array([[1.0, engine_size, year, mileage, fuel_val, manu_val, model_val]])\n",
        "\n",
        "    # run prediction\n",
        "    pred = final_model.predict(x_new)[0]\n",
        "\n",
        "    return pred"
      ]
    },
    {
      "cell_type": "code",
      "execution_count": 46,
      "metadata": {
        "colab": {
          "base_uri": "https://localhost:8080/"
        },
        "id": "jyfAZHGo2mmw",
        "outputId": "3c2873ee-c7ad-4b5a-fef1-d102093a6bba"
      },
      "outputs": [
        {
          "name": "stdout",
          "output_type": "stream",
          "text": [
            "\n",
            "Predicted Price Example: 24356.12\n"
          ]
        }
      ],
      "source": [
        "# Example 1\n",
        "pred_price = predict_price(\n",
        "    engine_size=2.0,\n",
        "    year=2018,\n",
        "    mileage=50000,\n",
        "    fuel_type=\"Petrol\",\n",
        "    manufacturer=\"Ford\",\n",
        "    model=\"Fiesta\"\n",
        ")\n",
        "\n",
        "print(\"\\nPredicted Price Example:\", round(pred_price, 2))"
      ]
    },
    {
      "cell_type": "code",
      "execution_count": 43,
      "metadata": {
        "colab": {
          "base_uri": "https://localhost:8080/"
        },
        "id": "xWz_fOhD5MMD",
        "outputId": "ac700f5b-6d7f-48fb-9412-d62b282e7bc2"
      },
      "outputs": [
        {
          "name": "stdout",
          "output_type": "stream",
          "text": [
            "\n",
            "Predicted Price Example: 22828.99\n"
          ]
        }
      ],
      "source": [
        "# Example 2\n",
        "pred_price = predict_price(\n",
        "    engine_size=1.4,\n",
        "    year=2017,\n",
        "    mileage=44516,\n",
        "    fuel_type=\"Hybrid\",\n",
        "    manufacturer=\"Toyota\",\n",
        "    model=\"Yaris\"\n",
        ")\n",
        "\n",
        "print(\"\\nPredicted Price Example:\", round(pred_price, 2))"
      ]
    },
    {
      "cell_type": "markdown",
      "metadata": {},
      "source": [
        "Saving the models using pickle library"
      ]
    },
    {
      "cell_type": "code",
      "execution_count": null,
      "metadata": {},
      "outputs": [],
      "source": [
        "import pickle\n",
        "\n",
        "with open(\"car_price_model.pkl\", \"wb\") as f:\n",
        "    pickle.dump(final_model, f)"
      ]
    },
    {
      "cell_type": "code",
      "execution_count": 50,
      "metadata": {},
      "outputs": [],
      "source": [
        "with open(\"car_price_model_WithOutliers.pkl\", \"wb\") as f:\n",
        "    pickle.dump(results, f)"
      ]
    }
  ],
  "metadata": {
    "colab": {
      "provenance": []
    },
    "kernelspec": {
      "display_name": "base",
      "language": "python",
      "name": "python3"
    },
    "language_info": {
      "codemirror_mode": {
        "name": "ipython",
        "version": 3
      },
      "file_extension": ".py",
      "mimetype": "text/x-python",
      "name": "python",
      "nbconvert_exporter": "python",
      "pygments_lexer": "ipython3",
      "version": "3.12.4"
    }
  },
  "nbformat": 4,
  "nbformat_minor": 0
}
